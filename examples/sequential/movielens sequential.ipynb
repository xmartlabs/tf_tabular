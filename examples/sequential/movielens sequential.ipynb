{
 "cells": [
  {
   "cell_type": "markdown",
   "metadata": {},
   "source": [
    "# MovieLens example\n",
    "This example is based on the TFRS movie retrieval example you can find here: https://www.tensorflow.org/recommenders/examples/basic_retrieval.\n"
   ]
  },
  {
   "cell_type": "code",
   "execution_count": 1,
   "metadata": {},
   "outputs": [],
   "source": [
    "%load_ext autoreload\n",
    "%autoreload 2"
   ]
  },
  {
   "cell_type": "code",
   "execution_count": 2,
   "metadata": {},
   "outputs": [],
   "source": [
    "from typing import Dict, Text\n",
    "\n",
    "import tensorflow as tf\n",
    "import tensorflow_datasets as tfds\n",
    "import tensorflow_recommenders as tfrs\n",
    "\n",
    "from tensorflow.keras.layers import Dense\n",
    "from tensorflow.keras import Model\n",
    "\n",
    "from tf_tabular.builder import InputBuilder\n",
    "from tf_tabular.sequence_processor import SequenceProcessor\n",
    "\n",
    "from examples.sequential.preprocessing import preprocess_dataset"
   ]
  },
  {
   "cell_type": "code",
   "execution_count": 3,
   "metadata": {},
   "outputs": [],
   "source": [
    "# Ratings data.\n",
    "ratings, ds_info = tfds.load(\"movielens/100k-ratings\", split=\"train\", with_info=True)\n",
    "# Features of all the available movies.\n",
    "movies, movie_info = tfds.load(\"movielens/100k-movies\", split=\"train\", with_info=True)"
   ]
  },
  {
   "cell_type": "markdown",
   "metadata": {},
   "source": [
    "## Preprocessing"
   ]
  },
  {
   "cell_type": "code",
   "execution_count": 6,
   "metadata": {},
   "outputs": [],
   "source": [
    "ratings_df = tfds.as_dataframe(ratings, ds_info)\n",
    "movies_df = tfds.as_dataframe(movies, movie_info)"
   ]
  },
  {
   "cell_type": "code",
   "execution_count": null,
   "metadata": {},
   "outputs": [],
   "source": []
  },
  {
   "cell_type": "code",
   "execution_count": 7,
   "metadata": {},
   "outputs": [
    {
     "name": "stdout",
     "output_type": "stream",
     "text": [
      "Unique users: 943\n",
      "Train set size: (3672, 5)\n",
      "Validation set size: (922, 5)\n"
     ]
    }
   ],
   "source": [
    "train_ds, val_ds, vocabs = preprocess_dataset(ratings_df, movies_df)"
   ]
  },
  {
   "cell_type": "markdown",
   "metadata": {},
   "source": [
    "### Shuffle and split dataset"
   ]
  },
  {
   "cell_type": "code",
   "execution_count": 8,
   "metadata": {},
   "outputs": [],
   "source": [
    "tf.random.set_seed(42)\n",
    "train_ds = train_ds.shuffle(100_000, seed=42, reshuffle_each_iteration=False)"
   ]
  },
  {
   "cell_type": "markdown",
   "metadata": {},
   "source": [
    "## Build model"
   ]
  },
  {
   "cell_type": "code",
   "execution_count": 9,
   "metadata": {},
   "outputs": [],
   "source": [
    "\n",
    "class MovielensModel(tfrs.Model):\n",
    "    def __init__(self, user_model, movie_model):\n",
    "        super().__init__()\n",
    "        self.movie_model: tf.keras.Model = movie_model\n",
    "        self.user_model: tf.keras.Model = user_model\n",
    "\n",
    "    def prepare_task(self, movies):\n",
    "        id_candidates = (movies.ragged_batch(1024)\n",
    "                         .prefetch(tf.data.AUTOTUNE)\n",
    "                         .cache()\n",
    "                         .map(lambda movie: (movie[\"movie_id\"], self.movie_model({'target_id': movie['movie_id'],\n",
    "                                                                                  'movie_genres': movie['movie_genres']}))))\n",
    "\n",
    "        metrics = tfrs.metrics.FactorizedTopK(\n",
    "            candidates=tfrs.layers.factorized_top_k.Streaming(k=100).index_from_dataset(id_candidates),\n",
    "            ks=[1,5,100],\n",
    "            name='factk'\n",
    "        )\n",
    "        loss = tf.keras.losses.CategoricalCrossentropy(from_logits=True,\n",
    "                                                       reduction=tf.keras.losses.Reduction.SUM_OVER_BATCH_SIZE)\n",
    "        task = tfrs.tasks.Retrieval(\n",
    "            metrics=metrics,\n",
    "            # num_hard_negatives=2,\n",
    "            remove_accidental_hits=True,\n",
    "            loss=loss\n",
    "        )\n",
    "        self.task: tf.keras.layers.Layer = task\n",
    "\n",
    "    def compute_loss(self, features: Dict[Text, tf.Tensor], training=False) -> tf.Tensor:\n",
    "        # We pick out the user features and pass them into the user model.\n",
    "        user_embeddings = self.user_model({\"user_history\": features[\"user_history\"],\n",
    "                                           \"history_ratings\": features[\"history_ratings\"]})\n",
    "        # And pick out the movie features and pass them into the movie model,\n",
    "        # getting embeddings back.\n",
    "        positive_movie_embeddings = self.movie_model({\"target_id\": features[\"target_id\"],\n",
    "                                                      \"movie_genres\": features[\"movie_genres\"]\n",
    "                                                      })\n",
    "\n",
    "        # The task computes the loss and the metrics.\n",
    "        return self.task(user_embeddings, positive_movie_embeddings,\n",
    "                         candidate_ids=features[\"target_id\"],\n",
    "                         candidate_sampling_probability=features[\"sampling_prob\"],\n",
    "                        )\n"
   ]
  },
  {
   "cell_type": "code",
   "execution_count": 10,
   "metadata": {},
   "outputs": [],
   "source": [
    "\n",
    "\n",
    "embedding_dims = {\"target_id\": 64,\n",
    "                  \"movie_genres\": 32}\n",
    "\n",
    "def build_movie_model():\n",
    "    input_builder = InputBuilder()\n",
    "    input_builder.add_inputs_list(categoricals=[\"target_id\", \"movie_genres\"],\n",
    "                                  vocabs=vocabs,\n",
    "                                  multi_hots=[\"movie_genres\"],\n",
    "                                  embedding_dims=embedding_dims)\n",
    "    inputs, output = input_builder.build_input_layers()\n",
    "    x = Dense(32, activation=None)(output)\n",
    "    return Model(inputs=inputs, outputs=x)\n",
    "\n",
    "movie_model = build_movie_model()"
   ]
  },
  {
   "cell_type": "code",
   "execution_count": 11,
   "metadata": {},
   "outputs": [
    {
     "name": "stdout",
     "output_type": "stream",
     "text": [
      "No normalization parameters found for history_ratings. Not normalizing this column\n"
     ]
    }
   ],
   "source": [
    "embedding_dims = {\"user_history\": 64}\n",
    "\n",
    "def build_user_model():\n",
    "    input_builder = InputBuilder(sequence_processor=SequenceProcessor(key_dim=64))\n",
    "    input_builder.add_inputs_list(categoricals=[\"user_history\"],\n",
    "                                  numericals=[\"history_ratings\"],\n",
    "                                  vocabs=vocabs,\n",
    "                                  sequentials=[\"user_history\", \"history_ratings\"],\n",
    "                                  embedding_dims=embedding_dims)\n",
    "    inputs, output = input_builder.build_input_layers()\n",
    "    x = Dense(32, activation=None)(output)\n",
    "    return Model(inputs=inputs, outputs=x)\n",
    "\n",
    "user_model = build_user_model()"
   ]
  },
  {
   "cell_type": "code",
   "execution_count": 12,
   "metadata": {},
   "outputs": [
    {
     "name": "stderr",
     "output_type": "stream",
     "text": [
      "WARNING:absl:At this time, the v2.11+ optimizer `tf.keras.optimizers.Adam` runs slowly on M1/M2 Macs, please use the legacy Keras optimizer instead, located at `tf.keras.optimizers.legacy.Adam`.\n"
     ]
    }
   ],
   "source": [
    "model = MovielensModel(user_model, movie_model)\n",
    "model.prepare_task(movies)\n",
    "model.compile(optimizer=tf.keras.optimizers.Adam(learning_rate=0.003))\n"
   ]
  },
  {
   "cell_type": "markdown",
   "metadata": {},
   "source": [
    "Cache the training and test data"
   ]
  },
  {
   "cell_type": "code",
   "execution_count": 13,
   "metadata": {},
   "outputs": [],
   "source": [
    "cached_train = train_ds.shuffle(100_000).ragged_batch(128).cache()\n",
    "cached_val = val_ds.ragged_batch(128).cache()\n"
   ]
  },
  {
   "cell_type": "code",
   "execution_count": 14,
   "metadata": {},
   "outputs": [
    {
     "name": "stdout",
     "output_type": "stream",
     "text": [
      "Epoch 1/10\n",
      "29/29 [==============================] - 31s 976ms/step - factk/top_1_categorical_accuracy: 0.0035 - factk/top_5_categorical_accuracy: 0.0193 - factk/top_100_categorical_accuracy: 0.2399 - loss: 5.0386 - regularization_loss: 0.0000e+00 - total_loss: 5.0386\n",
      "Epoch 2/10\n",
      "29/29 [==============================] - 29s 997ms/step - factk/top_1_categorical_accuracy: 0.0065 - factk/top_5_categorical_accuracy: 0.0275 - factk/top_100_categorical_accuracy: 0.3096 - loss: 4.8373 - regularization_loss: 0.0000e+00 - total_loss: 4.8373\n",
      "Epoch 3/10\n",
      "29/29 [==============================] - 29s 994ms/step - factk/top_1_categorical_accuracy: 0.0074 - factk/top_5_categorical_accuracy: 0.0308 - factk/top_100_categorical_accuracy: 0.3314 - loss: 4.7736 - regularization_loss: 0.0000e+00 - total_loss: 4.7736\n",
      "Epoch 4/10\n",
      "29/29 [==============================] - 30s 1s/step - factk/top_1_categorical_accuracy: 0.0068 - factk/top_5_categorical_accuracy: 0.0338 - factk/top_100_categorical_accuracy: 0.3608 - loss: 4.6815 - regularization_loss: 0.0000e+00 - total_loss: 4.6815\n",
      "Epoch 5/10\n",
      "29/29 [==============================] - 29s 1s/step - factk/top_1_categorical_accuracy: 0.0074 - factk/top_5_categorical_accuracy: 0.0392 - factk/top_100_categorical_accuracy: 0.3932 - loss: 4.5638 - regularization_loss: 0.0000e+00 - total_loss: 4.5638\n",
      "Epoch 6/10\n",
      "29/29 [==============================] - 29s 986ms/step - factk/top_1_categorical_accuracy: 0.0098 - factk/top_5_categorical_accuracy: 0.0422 - factk/top_100_categorical_accuracy: 0.4137 - loss: 4.5066 - regularization_loss: 0.0000e+00 - total_loss: 4.5066\n",
      "Epoch 7/10\n",
      "29/29 [==============================] - 29s 994ms/step - factk/top_1_categorical_accuracy: 0.0098 - factk/top_5_categorical_accuracy: 0.0384 - factk/top_100_categorical_accuracy: 0.4180 - loss: 4.4597 - regularization_loss: 0.0000e+00 - total_loss: 4.4597\n",
      "Epoch 8/10\n",
      "29/29 [==============================] - 29s 988ms/step - factk/top_1_categorical_accuracy: 0.0079 - factk/top_5_categorical_accuracy: 0.0338 - factk/top_100_categorical_accuracy: 0.4243 - loss: 4.4658 - regularization_loss: 0.0000e+00 - total_loss: 4.4658\n",
      "Epoch 9/10\n",
      "29/29 [==============================] - 29s 988ms/step - factk/top_1_categorical_accuracy: 0.0095 - factk/top_5_categorical_accuracy: 0.0417 - factk/top_100_categorical_accuracy: 0.4352 - loss: 4.4108 - regularization_loss: 0.0000e+00 - total_loss: 4.4108\n",
      "Epoch 10/10\n",
      "29/29 [==============================] - 29s 989ms/step - factk/top_1_categorical_accuracy: 0.0114 - factk/top_5_categorical_accuracy: 0.0471 - factk/top_100_categorical_accuracy: 0.4662 - loss: 4.3404 - regularization_loss: 0.0000e+00 - total_loss: 4.3404\n"
     ]
    },
    {
     "data": {
      "text/plain": [
       "<keras.src.callbacks.History at 0x2cbe63d30>"
      ]
     },
     "execution_count": 14,
     "metadata": {},
     "output_type": "execute_result"
    }
   ],
   "source": [
    "model.fit(cached_train, epochs=10)"
   ]
  },
  {
   "cell_type": "markdown",
   "metadata": {},
   "source": [
    "### Evaluation"
   ]
  },
  {
   "cell_type": "code",
   "execution_count": 15,
   "metadata": {},
   "outputs": [
    {
     "name": "stdout",
     "output_type": "stream",
     "text": [
      "8/8 [==============================] - 3s 300ms/step - factk/top_1_categorical_accuracy: 0.0076 - factk/top_5_categorical_accuracy: 0.0325 - factk/top_100_categorical_accuracy: 0.3200 - loss: 5.0689 - regularization_loss: 0.0000e+00 - total_loss: 5.0689\n"
     ]
    },
    {
     "data": {
      "text/plain": [
       "{'factk/top_1_categorical_accuracy': 0.0075921909883618355,\n",
       " 'factk/top_5_categorical_accuracy': 0.03253795951604843,\n",
       " 'factk/top_100_categorical_accuracy': 0.31995663046836853,\n",
       " 'loss': 3.975198984146118,\n",
       " 'regularization_loss': 0,\n",
       " 'total_loss': 3.975198984146118}"
      ]
     },
     "execution_count": 15,
     "metadata": {},
     "output_type": "execute_result"
    }
   ],
   "source": [
    "model.evaluate(cached_val, return_dict=True)"
   ]
  },
  {
   "cell_type": "markdown",
   "metadata": {},
   "source": [
    "## Visualizing the user model part:"
   ]
  },
  {
   "cell_type": "code",
   "execution_count": 27,
   "metadata": {},
   "outputs": [
    {
     "data": {
      "image/png": "[encoded data removed]",
      "text/plain": [
       "<IPython.core.display.Image object>"
      ]
     },
     "execution_count": 27,
     "metadata": {
      "image/png": {
       "width": 240
      }
     },
     "output_type": "execute_result"
    }
   ],
   "source": [
    "from IPython.display import Image\n",
    "Image(\"user_model.png\", width=240)"
   ]
  },
  {
   "cell_type": "code",
   "execution_count": null,
   "metadata": {},
   "outputs": [],
   "source": []
  }
 ],
 "metadata": {
  "kernelspec": {
   "display_name": "py310",
   "language": "python",
   "name": "python3"
  },
  "language_info": {
   "codemirror_mode": {
    "name": "ipython",
    "version": 3
   },
   "file_extension": ".py",
   "mimetype": "text/x-python",
   "name": "python",
   "nbconvert_exporter": "python",
   "pygments_lexer": "ipython3",
   "version": "3.10.0"
  }
 },
 "nbformat": 4,
 "nbformat_minor": 2
}
